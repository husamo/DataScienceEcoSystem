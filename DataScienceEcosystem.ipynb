{
 "cells": [
  {
   "cell_type": "markdown",
   "id": "f99e4266-41b8-4c53-a531-0dfee78140b1",
   "metadata": {},
   "source": [
    "# Data Science Tools and Ecosystem"
   ]
  },
  {
   "cell_type": "markdown",
   "id": "7da41def-705e-42a5-bb08-f50516e5a63c",
   "metadata": {},
   "source": [
    "In this notebook, Data Science Tools and Ecosystem are summarized."
   ]
  },
  {
   "cell_type": "markdown",
   "id": "ebc06007-ceb8-432f-bf72-70e4340577c8",
   "metadata": {},
   "source": [
    "Some of the popular languages that Data Scientists use are:\n",
    "\n",
    "1. Python\n",
    "2. R\n",
    "3. SQL"
   ]
  },
  {
   "cell_type": "markdown",
   "id": "b2017358-6b0b-470e-8cea-d3a7066e969e",
   "metadata": {},
   "source": [
    "Some of the commonly used libraries used by Data Scientists include:\n",
    "\n",
    "1. Numpy\n",
    "2. Pandas\n",
    "3. Matplotlib"
   ]
  },
  {
   "cell_type": "markdown",
   "id": "da42ded7-be9f-4b1e-957c-09e30187fde1",
   "metadata": {},
   "source": [
    "| Data Science Tools |\n",
    "|--------------------|\n",
    "|Jupyter Notebook|\n",
    "|TensorFlow|\n",
    "|Apache Spark|\n"
   ]
  },
  {
   "cell_type": "markdown",
   "id": "8863d527-a3b6-49e4-bafc-808506984028",
   "metadata": {},
   "source": [
    "### Below are a few examples of evaluating arithmetic expressions in Python"
   ]
  },
  {
   "cell_type": "code",
   "execution_count": 3,
   "id": "7678db28-4a92-4138-9a85-c546afb4ff1d",
   "metadata": {},
   "outputs": [
    {
     "data": {
      "text/plain": [
       "17"
      ]
     },
     "execution_count": 3,
     "metadata": {},
     "output_type": "execute_result"
    }
   ],
   "source": [
    "# This a simple arithmetic expression to mutiply then add integers\n",
    "(3*4)+5"
   ]
  },
  {
   "cell_type": "code",
   "execution_count": 4,
   "id": "662973bf-fd8c-4d41-b05c-5d31f7eb8122",
   "metadata": {},
   "outputs": [
    {
     "data": {
      "text/plain": [
       "33.333333333333336"
      ]
     },
     "execution_count": 4,
     "metadata": {},
     "output_type": "execute_result"
    }
   ],
   "source": [
    "#This expression is going to divide 200 by 60 in order to convert minutes to hours\n",
    "200 / 6"
   ]
  },
  {
   "cell_type": "markdown",
   "id": "81e34069-0f72-4db3-9319-a5583a0d2e2c",
   "metadata": {},
   "source": [
    "**Objectives:**\r\n",
    "\r\n",
    "- Create a Jupyter notebook\r\n",
    "- List data science languages\r\n",
    "- List data science libraries\r\n",
    "- Multiply and add numbers\r\n",
    "- Convert minutes to hours\r\n",
    "ours"
   ]
  },
  {
   "cell_type": "markdown",
   "id": "356b36ed-ca4a-4b2d-b05d-966abe7390ac",
   "metadata": {},
   "source": [
    "## Author\n",
    "Husam Alomari"
   ]
  },
  {
   "cell_type": "code",
   "execution_count": null,
   "id": "55da495d-8f48-43d2-a1aa-8fc6fdc92b30",
   "metadata": {},
   "outputs": [],
   "source": []
  }
 ],
 "metadata": {
  "kernelspec": {
   "display_name": "Python 3 (ipykernel)",
   "language": "python",
   "name": "python3"
  },
  "language_info": {
   "codemirror_mode": {
    "name": "ipython",
    "version": 3
   },
   "file_extension": ".py",
   "mimetype": "text/x-python",
   "name": "python",
   "nbconvert_exporter": "python",
   "pygments_lexer": "ipython3",
   "version": "3.11.9"
  }
 },
 "nbformat": 4,
 "nbformat_minor": 5
}
